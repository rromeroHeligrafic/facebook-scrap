{
 "cells": [
  {
   "cell_type": "code",
   "execution_count": 1,
   "metadata": {},
   "outputs": [],
   "source": [
    "import pandas as pd"
   ]
  },
  {
   "cell_type": "code",
   "execution_count": 2,
   "metadata": {},
   "outputs": [],
   "source": [
    "from db_conection import SingletonSQLiteConnection\n",
    "cr = SingletonSQLiteConnection().get_connection()"
   ]
  },
  {
   "cell_type": "code",
   "execution_count": 3,
   "metadata": {},
   "outputs": [],
   "source": [
    "df = pd.read_excel('liv2024.xlsx')"
   ]
  },
  {
   "cell_type": "code",
   "execution_count": null,
   "metadata": {},
   "outputs": [],
   "source": [
    "#column_names = df.columns.tolist()"
   ]
  },
  {
   "cell_type": "code",
   "execution_count": 5,
   "metadata": {},
   "outputs": [
    {
     "data": {
      "text/plain": [
       "['Bencina',\n",
       " 'Gasolina - GLP',\n",
       " 'Diésel',\n",
       " 'Eléctrico',\n",
       " 'Híbrido - Gasolina',\n",
       " 'Híbrido Recarga Exterior',\n",
       " 'Híbrido Sin Recarga Exterior',\n",
       " 'Gas',\n",
       " 'Híbrido - Diésel']"
      ]
     },
     "execution_count": 5,
     "metadata": {},
     "output_type": "execute_result"
    }
   ],
   "source": [
    "\n",
    "fuels = df['Combustible'].unique().tolist()\n",
    "fuels"
   ]
  },
  {
   "cell_type": "code",
   "execution_count": 8,
   "metadata": {},
   "outputs": [
    {
     "name": "stdout",
     "output_type": "stream",
     "text": [
      "Inserting fuel: Bencina\n",
      "Inserting fuel: Gasolina - GLP\n",
      "Inserting fuel: Diésel\n",
      "Inserting fuel: Eléctrico\n",
      "Inserting fuel: Híbrido - Gasolina\n",
      "Inserting fuel: Híbrido Recarga Exterior\n",
      "Inserting fuel: Híbrido Sin Recarga Exterior\n",
      "Inserting fuel: Gas\n",
      "Inserting fuel: Híbrido - Diésel\n"
     ]
    }
   ],
   "source": [
    "for fuel in fuels:\n",
    "    print(\"Inserting fuel:\", fuel)\n",
    "    cr.execute(f\"INSERT INTO FUEL (name) VALUES ('{fuel}')\")"
   ]
  },
  {
   "cell_type": "code",
   "execution_count": 9,
   "metadata": {},
   "outputs": [],
   "source": [
    "cr.commit()"
   ]
  }
 ],
 "metadata": {
  "kernelspec": {
   "display_name": "Python 3",
   "language": "python",
   "name": "python3"
  },
  "language_info": {
   "codemirror_mode": {
    "name": "ipython",
    "version": 3
   },
   "file_extension": ".py",
   "mimetype": "text/x-python",
   "name": "python",
   "nbconvert_exporter": "python",
   "pygments_lexer": "ipython3",
   "version": "3.12.2"
  }
 },
 "nbformat": 4,
 "nbformat_minor": 2
}
