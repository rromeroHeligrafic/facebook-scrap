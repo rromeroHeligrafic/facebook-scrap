{
 "cells": [
  {
   "cell_type": "code",
   "execution_count": 1,
   "metadata": {},
   "outputs": [],
   "source": [
    "import pandas as pd"
   ]
  },
  {
   "cell_type": "code",
   "execution_count": 2,
   "metadata": {},
   "outputs": [],
   "source": [
    "from db_conection import SingletonSQLiteConnection\n",
    "cr = SingletonSQLiteConnection().get_connection()"
   ]
  },
  {
   "cell_type": "code",
   "execution_count": 3,
   "metadata": {},
   "outputs": [],
   "source": [
    "df = pd.read_excel('liv2024.xlsx')"
   ]
  },
  {
   "cell_type": "code",
   "execution_count": null,
   "metadata": {},
   "outputs": [],
   "source": [
    "#column_names = df.columns.tolist()"
   ]
  },
  {
   "cell_type": "code",
   "execution_count": 5,
   "metadata": {},
   "outputs": [
    {
     "data": {
      "text/plain": [
       "['Automática',\n",
       " 'Mecánica',\n",
       " 'DCT Double Clutch Transmisión',\n",
       " 'Automatizada',\n",
       " 'CVT',\n",
       " 'AMT Transmisión Manual Automatizada']"
      ]
     },
     "execution_count": 5,
     "metadata": {},
     "output_type": "execute_result"
    }
   ],
   "source": [
    "\n",
    "transmissions = df['Transmisión'].unique().tolist()\n",
    "transmissions"
   ]
  },
  {
   "cell_type": "code",
   "execution_count": 6,
   "metadata": {},
   "outputs": [
    {
     "name": "stdout",
     "output_type": "stream",
     "text": [
      "Inserting transmission: Automática\n",
      "Inserting transmission: Mecánica\n",
      "Inserting transmission: DCT Double Clutch Transmisión\n",
      "Inserting transmission: Automatizada\n",
      "Inserting transmission: CVT\n",
      "Inserting transmission: AMT Transmisión Manual Automatizada\n"
     ]
    }
   ],
   "source": [
    "for transsmission in transmissions:\n",
    "    print(\"Inserting transmission:\", transsmission)\n",
    "    cr.execute(f\"INSERT INTO TRANSMISSION (name) VALUES ('{transsmission}')\")"
   ]
  },
  {
   "cell_type": "code",
   "execution_count": 7,
   "metadata": {},
   "outputs": [],
   "source": [
    "cr.commit()"
   ]
  }
 ],
 "metadata": {
  "kernelspec": {
   "display_name": "Python 3",
   "language": "python",
   "name": "python3"
  },
  "language_info": {
   "codemirror_mode": {
    "name": "ipython",
    "version": 3
   },
   "file_extension": ".py",
   "mimetype": "text/x-python",
   "name": "python",
   "nbconvert_exporter": "python",
   "pygments_lexer": "ipython3",
   "version": "3.12.2"
  }
 },
 "nbformat": 4,
 "nbformat_minor": 2
}
